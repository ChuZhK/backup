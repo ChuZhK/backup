{
 "cells": [
  {
   "cell_type": "markdown",
   "metadata": {},
   "source": [
    "**<font color = black size=6>实验三:逻辑回归</font>**"
   ]
  },
  {
   "cell_type": "markdown",
   "metadata": {},
   "source": [
    "**<font color = blue size=4>第一部分:函数介绍</font>**"
   ]
  },
  {
   "cell_type": "markdown",
   "metadata": {},
   "source": [
    "<span style=\"color:purple\">由于机器学习所使用的数据集并不一定能够直接进行使用，如经常可能出现缺失值或者异常值（如异常0或者异常大的数据），又或者是数据类型不适合直接应用于模型训练等，所以数据预处理同样是机器学习过程中十分重要的一个部分。  \n",
    "    本次实验的数据预处理需要用的操作包括判断数据是否有缺失值以及异常值、缺失值替换操作、并将部分特征值类型转换为适合模型训练的类型。在进行逻辑回归实验之前，首先介绍下上述操作所用到的python语法。</span>"
   ]
  },
  {
   "cell_type": "markdown",
   "metadata": {},
   "source": [
    "<span style=\"color:purple\">1) 判断一列中是否有缺失值</span>"
   ]
  },
  {
   "cell_type": "code",
   "execution_count": 1,
   "metadata": {},
   "outputs": [],
   "source": [
    "import pandas as pd\n",
    "import numpy as np\n",
    "import matplotlib.pyplot as plt\n",
    "import math\n",
    "import matplotlib as mpl\n",
    "# ignore warnings\n",
    "import warnings\n",
    "warnings.filterwarnings('ignore')"
   ]
  },
  {
   "cell_type": "code",
   "execution_count": 3,
   "metadata": {},
   "outputs": [
    {
     "name": "stdout",
     "output_type": "stream",
     "text": [
      "height    2\n",
      "weight    2\n",
      "sex       0\n",
      "dtype: int64\n",
      "   height  weight     sex\n",
      "0   170.0    54.0    Male\n",
      "1   180.0     NaN    Male\n",
      "2   164.0    48.0  Female\n",
      "3     NaN    66.0    Male\n",
      "4   176.0     NaN  Female\n",
      "5   162.0    59.0    Male\n",
      "6   154.0    46.0    Male\n",
      "7   155.0    58.0  Female\n",
      "8   165.0     0.0  Female\n",
      "9     NaN    50.0  Female\n"
     ]
    }
   ],
   "source": [
    "#通过pandas将csv文件转换为dataframe格式后进行操作\n",
    "train1_frame = pd.read_csv('introduction.csv')\n",
    "#判断每一列是否有空值并返回每列空值的数量\n",
    "print(train1_frame.isnull().sum())\n",
    "print(train1_frame)"
   ]
  },
  {
   "cell_type": "markdown",
   "metadata": {},
   "source": [
    "<span style=\"color:purple\">2) 对每一列的缺失值和异常值进行替换操作</span>"
   ]
  },
  {
   "cell_type": "code",
   "execution_count": 5,
   "metadata": {},
   "outputs": [
    {
     "name": "stdout",
     "output_type": "stream",
     "text": [
      "   height  weight     sex\n",
      "0   170.0    54.0    Male\n",
      "1   180.0     NaN    Male\n",
      "2   164.0    48.0  Female\n",
      "3     NaN    66.0    Male\n",
      "4   176.0     NaN  Female\n",
      "5   162.0    59.0    Male\n",
      "6   154.0    46.0    Male\n",
      "7   155.0    58.0  Female\n",
      "8   165.0     NaN  Female\n",
      "9     NaN    50.0  Female\n"
     ]
    }
   ],
   "source": [
    "#将0替换为空值，之后将空值替换为修正的值(例如：平均值、中数、众数等)\n",
    "#利用pandas中的replace函数将某一列的指定值替换为另一个值\n",
    "train1_frame[['height','weight']]=\\\n",
    "train1_frame[['height','weight']].replace(0,np.NaN)\n",
    "print(train1_frame)"
   ]
  },
  {
   "cell_type": "code",
   "execution_count": 6,
   "metadata": {},
   "outputs": [
    {
     "name": "stdout",
     "output_type": "stream",
     "text": [
      "   height  weight     sex\n",
      "0   170.0    54.0    Male\n",
      "1   180.0     NaN    Male\n",
      "2   164.0    48.0  Female\n",
      "3   165.0    66.0    Male\n",
      "4   176.0     NaN  Female\n",
      "5   162.0    59.0    Male\n",
      "6   154.0    46.0    Male\n",
      "7   155.0    58.0  Female\n",
      "8   165.0     NaN  Female\n",
      "9   166.5    50.0  Female\n"
     ]
    }
   ],
   "source": [
    "#先对height列进行分离，之后将temp按照性别进行分类，之后使用mean函数分别计算male和female非空数据的height的平均值\n",
    "temp=train1_frame[train1_frame['height'].notnull()]\n",
    "temp=temp[['height','sex']].groupby(['sex'])[['height']].mean().reset_index()\n",
    "\n",
    "#使用dataframe的loc函数将指定条件的height列和sex列筛选出来进行值替换操作\n",
    "train1_frame.loc[(train1_frame['sex']=='Male')&(train1_frame['height'].isnull()),'height']=temp['height'][0]\n",
    "train1_frame.loc[(train1_frame['sex']=='Female')&(train1_frame['height'].isnull()),'height']=temp['height'][1]\n",
    "print(train1_frame)"
   ]
  },
  {
   "cell_type": "code",
   "execution_count": 7,
   "metadata": {},
   "outputs": [
    {
     "name": "stdout",
     "output_type": "stream",
     "text": [
      "   height  weight     sex\n",
      "0   170.0    54.0    Male\n",
      "1   180.0    50.0    Male\n",
      "2   164.0    48.0  Female\n",
      "3   165.0    66.0    Male\n",
      "4   176.0    56.5  Female\n",
      "5   162.0    59.0    Male\n",
      "6   154.0    46.0    Male\n",
      "7   155.0    58.0  Female\n",
      "8   165.0    56.5  Female\n",
      "9   166.5    50.0  Female\n"
     ]
    }
   ],
   "source": [
    "#再对weight列进行分离，之后同样将temp按照性别进行分类，之后使用median函数分别计算male和female非空数据的height的平均值\n",
    "temp=train1_frame[train1_frame['weight'].notnull()]\n",
    "temp=temp[['weight','sex']].groupby(['sex'])[['weight']].median().reset_index()\n",
    "\n",
    "#使用dataframe的loc函数将指定条件的height列和sex列筛选出来进行值替换操作\n",
    "train1_frame.loc[(train1_frame['sex']=='Male')&(train1_frame['weight'].isnull()),'weight']=temp['weight'][0]\n",
    "train1_frame.loc[(train1_frame['sex']=='Female')&(train1_frame['weight'].isnull()),'weight']=temp['weight'][1]\n",
    "print(train1_frame)"
   ]
  },
  {
   "cell_type": "markdown",
   "metadata": {},
   "source": [
    "<span style=\"color:purple\">3) 将结果值从字符串变成容易操作的整数类型</span>"
   ]
  },
  {
   "cell_type": "code",
   "execution_count": 8,
   "metadata": {},
   "outputs": [
    {
     "name": "stdout",
     "output_type": "stream",
     "text": [
      "   height  weight     sex\n",
      "0   170.0    54.0    Male\n",
      "1   180.0    50.0    Male\n",
      "2   164.0    48.0  Female\n",
      "3   165.0    66.0    Male\n",
      "4   176.0    56.5  Female\n",
      "5   162.0    59.0    Male\n",
      "6   154.0    46.0    Male\n",
      "7   155.0    58.0  Female\n",
      "8   165.0    56.5  Female\n",
      "9   166.5    50.0  Female\n",
      "   height  weight  sex\n",
      "0   170.0    54.0    0\n",
      "1   180.0    50.0    0\n",
      "2   164.0    48.0    1\n",
      "3   165.0    66.0    0\n",
      "4   176.0    56.5    1\n",
      "5   162.0    59.0    0\n",
      "6   154.0    46.0    0\n",
      "7   155.0    58.0    1\n",
      "8   165.0    56.5    1\n",
      "9   166.5    50.0    1\n"
     ]
    }
   ],
   "source": [
    "print(train1_frame)\n",
    "train1_frame['sex'] = np.where(train1_frame['sex'] == \"Male\", 0, 1)\n",
    "print(train1_frame)"
   ]
  },
  {
   "cell_type": "markdown",
   "metadata": {},
   "source": [
    "<span style=\"color:purple\">4) 当坐标为两维时的绘图</span>"
   ]
  },
  {
   "cell_type": "code",
   "execution_count": 12,
   "metadata": {},
   "outputs": [
    {
     "name": "stdout",
     "output_type": "stream",
     "text": [
      "[[ 0]\n",
      " [ 3]\n",
      " [-6]]\n"
     ]
    },
    {
     "data": {
      "image/png": "[encoded data removed]",
      "text/plain": [
       "<Figure size 720x360 with 1 Axes>"
      ]
     },
     "metadata": {
      "needs_background": "light"
     },
     "output_type": "display_data"
    }
   ],
   "source": [
    "#确定图画边界和大小\n",
    "plt.figure(figsize=(10,5))\n",
    "x_min, x_max = 0,10\n",
    "y_min, y_max = 0,5\n",
    "#使用numpy中的meshgrid生成网格矩阵，方便进行之后的描点\n",
    "boundary_x, boundary_y = np.meshgrid(np.arange(x_min, x_max, 0.01),np.arange(y_min, y_max, 0.01))\n",
    "grid = np.c_[boundary_x.ravel(), boundary_y.ravel()]\n",
    "#加入偏置对应的一列\n",
    "e=np.ones((len(grid),1))\n",
    "grid=np.c_[e,grid]\n",
    "#假定下列的模型参数\n",
    "w=np.array([[0],[3],[-6]])\n",
    "print(w)\n",
    "#计算出网格点中每个点对应的逻辑回归预测值\n",
    "z=grid.dot(w)\n",
    "for i in range(len(z)):\n",
    "    z[i][0]=(1/(1+np.exp(-z[i])))\n",
    "    if(z[i][0]<0.5):z[i][0]=0\n",
    "    else:z[i][0]=1\n",
    "#转换shape以作出决策边界\n",
    "z=z.reshape(boundary_x.shape)\n",
    "plt.contourf(boundary_x, boundary_y, z, cmap=plt.cm.Spectral, zorder=1)\n",
    "plt.show()"
   ]
  },
  {
   "cell_type": "code",
   "execution_count": 10,
   "metadata": {},
   "outputs": [
    {
     "data": {
      "image/png": "[encoded data removed]",
      "text/plain": [
       "<Figure size 432x288 with 1 Axes>"
      ]
     },
     "metadata": {
      "needs_background": "light"
     },
     "output_type": "display_data"
    }
   ],
   "source": [
    "\"\"\"\n",
    "可使用plt.scatter来绘制出测试集的每个样本点，并设置指定颜色来区分预测正确和错误的样本\n",
    "plt.scatter(x,y,c=\"color\")，x、y为坐标值，c为指定颜色\n",
    "\"\"\"\n",
    "class_1=train1_frame[train1_frame['sex']==1]\n",
    "class_0=train1_frame[train1_frame['sex']==0]\n",
    "plt.scatter(class_1['height'],class_1['weight'],c='blue')\n",
    "plt.scatter(class_0['height'],class_0['weight'],c='red')\n",
    "plt.show()"
   ]
  },
  {
   "cell_type": "markdown",
   "metadata": {},
   "source": [
    "**<font color = blue size=4>第二部分:逻辑回归实验一</font>**"
   ]
  },
  {
   "cell_type": "code",
   "execution_count": 4,
   "metadata": {},
   "outputs": [],
   "source": [
    "import pandas as pd\n",
    "import numpy as np\n",
    "import matplotlib.pyplot as plt\n",
    "import math\n",
    "import matplotlib as mpl\n",
    "import random"
   ]
  },
  {
   "cell_type": "markdown",
   "metadata": {},
   "source": [
    "<span style=\"color:purple\">Iris数据集是常用的分类实验数据集,也称鸢尾花卉数据集，是一类多重变量分析的数据集。我们实验选取数据集的部分内容，包含训练集中的80个数据样本和测试集的20个样本，分为2类，每个数据包含2个属性。可通过花萼长度(x1)，花萼宽度(x2)2个属性预测鸢尾花卉属于（Setosa，Versicolour）二个种类中的哪一类。</span>"
   ]
  },
  {
   "cell_type": "markdown",
   "metadata": {},
   "source": [
    "<span style=\"color:purple\">1) 使用pandas库将训练数据集'flower_train.csv'与测试数据集'flower_test.csv'载入到Dataframe对象中，并判断训练集中每列数据是否有缺失值或者不合理的数值，如果有，请在不删除数据的前提下进行处理，而测试集为完好的数据集，不需要进行操作。由于花卉类型(type)为字符串类型，请将花卉类型转换为适合模型训练的类型</span>"
   ]
  },
  {
   "cell_type": "code",
   "execution_count": 5,
   "metadata": {},
   "outputs": [
    {
     "name": "stdout",
     "output_type": "stream",
     "text": [
      "          x1        x2  type\n",
      "0   5.032432  3.500000     0\n",
      "1   4.900000  3.000000     0\n",
      "2   4.700000  3.200000     0\n",
      "3   4.600000  3.100000     0\n",
      "4   5.000000  3.600000     0\n",
      "..       ...       ...   ...\n",
      "75  5.700000  2.748649     1\n",
      "76  5.700000  2.900000     1\n",
      "77  6.200000  2.900000     1\n",
      "78  5.100000  2.748649     1\n",
      "79  5.700000  2.800000     1\n",
      "\n",
      "[80 rows x 3 columns]\n"
     ]
    }
   ],
   "source": [
    "#your code here------\n",
    "import pandas as pd\n",
    "import numpy as np\n",
    "import matplotlib.pyplot as plt\n",
    "import math\n",
    "import matplotlib as mpl\n",
    "# ignore warnings\n",
    "import warnings\n",
    "warnings.filterwarnings('ignore')\n",
    "#通过pandas将csv文件转换为dataframe格式后进行操作\n",
    "train1_frame = pd.read_csv('flower_train.csv')\n",
    "#判断每一列是否有空值并返回每列空值的数量\n",
    "#print(train1_frame.isnull().sum())\n",
    "#print(train1_frame)\n",
    "train1_frame[['x1','x2']]=\\\n",
    "train1_frame[['x1','x2']].replace(0,np.NaN)\n",
    "#print(train1_frame)\n",
    "\n",
    "#先对x1列进行分离，之后将type按照Iris-setosa和Iris-versicolor进行分类，之后使用mean函数分别计算Iris-setosa和Iris-versicolor非空数据的x1的平均值\n",
    "temp_x1=train1_frame[train1_frame['x1'].notnull()]\n",
    "temp_x1=temp_x1[['x1','type']].groupby(['type'])[['x1']].mean().reset_index()\n",
    "\n",
    "#使用dataframe的loc函数将指定条件的x1列和type列筛选出来进行值替换操作\n",
    "train1_frame.loc[(train1_frame['type']=='Iris-setosa')&(train1_frame['x1'].isnull()),'x1']=temp_x1['x1'][0]\n",
    "train1_frame.loc[(train1_frame['type']=='Iris-versicolor')&(train1_frame['x1'].isnull()),'x1']=temp_x1['x1'][1]\n",
    "\n",
    "#先对x1列进行分离，之后将type按照性别进行分类，之后使用mean函数分别计算Iris-setosa和Iris-versicolor非空数据的x1的平均值\n",
    "\n",
    "temp_x2=train1_frame[train1_frame['x2'].notnull()]\n",
    "temp_x2=temp_x2[['x2','type']].groupby(['type'])[['x2']].mean().reset_index()\n",
    "\n",
    "train1_frame.loc[(train1_frame['type']=='Iris-setosa')&(train1_frame['x2'].isnull()),'x2']=temp_x2['x2'][0]\n",
    "train1_frame.loc[(train1_frame['type']=='Iris-versicolor')&(train1_frame['x2'].isnull()),'x2']=temp_x2['x2'][1]\n",
    "#print(train1_frame)\n",
    "\n",
    "train1_frame['type'] = np.where(train1_frame['type'] == \"Iris-setosa\", 0, 1)\n",
    "print(train1_frame)"
   ]
  },
  {
   "cell_type": "markdown",
   "metadata": {},
   "source": [
    "<span style=\"color:purple\">2)在之前的线性回归实验中，我们的模型为$\\hat{y}=\\omega^T x+b$，为方便实验，该实验中我们将偏置量b划入模型参数中，则对应的模型变为$\\hat{y}=\\omega^Tx$，请进行相应的转换  \n",
    "tips:上一次实验中的矩阵求解析解的方法中将某一列全设置为1，即将偏置量b算入模型参数中，特征值中加入一列全1的特征量</span>"
   ]
  },
  {
   "cell_type": "code",
   "execution_count": 6,
   "metadata": {},
   "outputs": [
    {
     "name": "stdout",
     "output_type": "stream",
     "text": [
      "[ 0.48620183 -0.5717529  -0.39076694]\n"
     ]
    }
   ],
   "source": [
    "#your code here------\n",
    "y_frame=[]\n",
    "y_frame=train1_frame['type']\n",
    "y=np.array(y_frame)\n",
    "train=np.array(train1_frame)\n",
    "for x in range(len(train)):\n",
    "    train[x,2]=1\n",
    "train_T=train.T\n",
    "T_t=train_T.dot(train)\n",
    "T=np.linalg.inv(T_t)\n",
    "W=T.dot(train_T).dot(y)\n",
    "print(W)"
   ]
  },
  {
   "cell_type": "markdown",
   "metadata": {},
   "source": [
    "<span style=\"color:purple\">3) 由于逻辑回归的原理是用逻辑函数把线性回归的结果(-∞,∞)映射到(0,1)所以逻辑回归适合于二分类问题。我们使用sigmoid函数$g(z)=\\frac{1}{1+e^{-z}}$将把线性回归的结果从(-∞,∞)映射到(0,1)。  \n",
    "    假设模型为线性回归模型$\\hat{y}=\\omega_0+\\omega_1 x_1+\\omega_2 x_2+...+\\omega_n x_n=\\omega^T x$，则任意样本所对应发生的概率值函数即为$g(\\hat{y})=\\frac{1}{1+e^{-\\hat{y}}}$，这样事情发生(定义为标签为1)的概率为$$P(y=1|x)=\\frac{1}{1+e^{-\\omega^T x}}$$  \n",
    "    对应于任意一个样本(${x_i}$,$y_i$),其中$x_i$为特征值，$y_i$为实际结果值,在参数$\\omega$下，该样本发生的概率为$$P(y_i|x_i,\\omega)=y_i{P(y_i=1|x_i)}+({1-y_i}){P(y_i=0|x_i)}$$\n",
    "    将每个样本发生概率相乘，得到似然函数:$$\\Pi^m_{i=1}{P(y_i|x_i,\\omega)}$$\n",
    "    为了计算方便，一般取对数得到对数似然函数:$$L(\\omega)=\\sum^m_{i=1}{lnP(y_i|x_i,\\omega)}$$  \n",
    "    我们总是希望出现预测正确的概率的可能性最大，即想要得到极大化似然函数对应的参数$\\omega$。这样最大化似然函数就转变为最小化似然函数的负数，取负的平均对数似然函数为损失函数,通过这样构建的损失函数$$J(\\omega)=-\\frac{1}{m}\\sum^m_{i=1}{lnP(y_i|x_i,\\omega)}=-\\frac{1}{m}\\sum^m_{i=1}ln(y_i\\frac{1}{1+e^{-\\omega^T x_i}}+(1-y_i)\\frac{e^{-\\omega^T x_i}}{1+e^{-\\omega^T x_i}})$$  \n",
    "    手动实现梯度下降法(不使用机器学习框架，如PyTorch、TensorFlow等)来进行模型的训练。  </span>"
   ]
  },
  {
   "cell_type": "markdown",
   "metadata": {},
   "source": [
    "<span style=\"color:purple\">算法步骤如下：①初始化模型参数$\\omega$的值；②在负梯度的方向上更新参数(由于该实验涉及样本数量较小，建议使用批量梯度下降)，并不断迭代这一步骤。</span>"
   ]
  },
  {
   "cell_type": "markdown",
   "metadata": {},
   "source": [
    "<span style=\"color:purple\">其中梯度的下降偏导公式为\n",
    "    $$\\frac{\\partial J}{\\partial \\omega_j}=\\frac{1}{m}\\sum_{i=1}^m x_{ij}(\\frac{e^{\\omega^T x_i}}{1+e^{\\omega^T x_i}}-y_i)$$  \n",
    "    参数更新的公式为$$\\omega_j =\\omega_j-\\eta\\frac{\\partial J}{\\partial w_j}$$其中$\\eta$表示学习率，$m$则表示批量中的样本数量，$x_{ij}$代表着第i个样本的第j个特征值,$y_i$代表着第i个样本的真实值</span>"
   ]
  },
  {
   "cell_type": "code",
   "execution_count": 7,
   "metadata": {},
   "outputs": [
    {
     "name": "stdout",
     "output_type": "stream",
     "text": [
      "0.0 0.0 0.0\n"
     ]
    }
   ],
   "source": [
    "#your code here-----\n",
    "w0=0\n",
    "w1=0\n",
    "w2=0\n",
    "base=0\n",
    "eta=0.01\n",
    "count=0\n",
    "while count<600:\n",
    "    my_w0=0\n",
    "    my_w1=0\n",
    "    my_w2=0\n",
    "    m0=0\n",
    "    m1=0\n",
    "    m2=0\n",
    "    n=random.randint(0,len(y_frame)-1)\n",
    "    x0=1\n",
    "    x1=train[n,0]\n",
    "    x2=train[n,1]\n",
    "    yuce=w0+w1*x1+w2*x2\n",
    "    w0=w0-eta*x0*yuce\n",
    "    w1=w1-eta*x1*yuce\n",
    "    w2=w2-eta*x2*yuce\n",
    "    count+=1\n",
    "print(w0,w1,w2)"
   ]
  },
  {
   "cell_type": "markdown",
   "metadata": {},
   "source": [
    "<span style=\"color:purple\">4)在模型训练完成后得到所训练的模型参数$\\omega$，在测试集上进行所训练模型的测试并使用之前所介绍的损失函数计算loss值</span>"
   ]
  },
  {
   "cell_type": "code",
   "execution_count": 9,
   "metadata": {},
   "outputs": [
    {
     "name": "stdout",
     "output_type": "stream",
     "text": [
      "0.6931471805599453\n"
     ]
    }
   ],
   "source": [
    "#your code here------\n",
    "test_frame = pd.read_csv('flower_test.csv')\n",
    "test_frame['type'] = np.where(test_frame['type'] == \"Iris-setosa\", 0, 1)\n",
    "test=np.array(test_frame)\n",
    "loss=0\n",
    "for n in range(len(test)):\n",
    "    yuce=w1*test[n,0]+w2*test[n,1]+w0\n",
    "    y=test[n,2]\n",
    "    loss-=math.log(y/(1+math.exp(yuce))+(1-y)*(1-1/(1+math.exp(yuce))))\n",
    "Total_loss=loss/(len(test))\n",
    "print(Total_loss)"
   ]
  },
  {
   "cell_type": "markdown",
   "metadata": {},
   "source": [
    "<span style=\"color:purple\">5)使用训练后的逻辑回归模型对测试数据集'flower_test.csv'进行预测，输出可视化结果（比如用seaborn或者matplotlib等可视化库来画出测试数据的散点图以及训练好的模型函数图像)，要求如下:  \n",
    "    1.将所得到的逻辑回归模型所得到的决策边界绘制出来  \n",
    "  2.测试集的所有点在同一幅图中进行绘制  \n",
    "  3.需要给不同类别的测试点不同颜色，方便通过颜色的区别直观看到预测正确和错误的样本</span>"
   ]
  },
  {
   "cell_type": "code",
   "execution_count": 11,
   "metadata": {},
   "outputs": [
    {
     "data": {
      "text/plain": [
       "<function matplotlib.pyplot.show(*args, **kw)>"
      ]
     },
     "execution_count": 11,
     "metadata": {},
     "output_type": "execute_result"
    },
    {
     "data": {
      "image/png": "[encoded data removed]",
      "text/plain": [
       "<Figure size 576x432 with 1 Axes>"
      ]
     },
     "metadata": {
      "needs_background": "light"
     },
     "output_type": "display_data"
    }
   ],
   "source": [
    "#your code here-----,\n",
    "plt.figure(figsize=(8,6))\n",
    "x_min,x_max=0,8\n",
    "y_min,y_max=0,6\n",
    "boundary_x,boundary_y=np.meshgrid(np.arange(x_min,x_max,0.01),np.arange(y_min,y_max,0.01))\n",
    "grid=np.c_[boundary_x.ravel(),boundary_y.ravel()]\n",
    "e=np.ones((len(grid),1))\n",
    "grid=np.c_[e,grid]\n",
    "#print(grid)\n",
    "w=np.array([[w0],[w2],[w1]])\n",
    "z=grid.dot(w)\n",
    "#print(z)\n",
    "for i in range(len(z)):\n",
    "    p=1/(1+math.exp(-z[i][0]))\n",
    "    if p<0.5:\n",
    "        z[i][0]=0\n",
    "    else:\n",
    "        z[i][0]=1\n",
    "z=z.reshape(boundary_x.shape)\n",
    "plt.contourf(boundary_x,boundary_y,z,camp=plt.cm.Spectral, zorder=1)\n",
    "myclass1=test_frame[test_frame['type']==1]\n",
    "myclass0=test_frame[test_frame['type']==0]\n",
    "plt.scatter(myclass1['x1'],myclass1['x2'],c='white')\n",
    "plt.scatter(myclass0['x1'],myclass1['x2'],c='red')\n",
    "plt.show"
   ]
  },
  {
   "cell_type": "markdown",
   "metadata": {},
   "source": [
    "**<font color = blue size=4>第三部分:逻辑回归实验二</font>**"
   ]
  },
  {
   "cell_type": "markdown",
   "metadata": {},
   "source": [
    "<span style=\"color:purple\">该数据集(train_titanic.csv和test_titanic.csv)同样为分类数据集，为泰坦尼克号的乘客信息以及最后是否生还。包括了七个特征值以及一个类别特征(即为Survived类型,代表是否生还),特征信息分别为Passengerid(乘客id)，Age(乘客年龄)，Fare(船票价格),Sex(性别)，sibsp(堂兄弟妹个数)，Parch(父母与小孩的个数)，Pclass(乘客等级)</span>"
   ]
  },
  {
   "cell_type": "markdown",
   "metadata": {},
   "source": [
    "<span style=\"color:purple\">该数据集已经做了处理，无缺失值和空值，且字符串类型全部转换成了整数类型，你们需要进行判断，在七个特征值至少选择四个你认为与最后是否生还关联度高的特征类别。该实验的任务依然是在训练集上使用逻辑回归方法和手动实现的梯度下降方法完成模型训练。</span>"
   ]
  },
  {
   "cell_type": "code",
   "execution_count": 1,
   "metadata": {},
   "outputs": [],
   "source": [
    "import pandas as pd\n",
    "import numpy as np\n",
    "import matplotlib.pyplot as plt\n",
    "import math\n",
    "import random"
   ]
  },
  {
   "cell_type": "markdown",
   "metadata": {},
   "source": [
    "<span style=\"color:purple\">1) 使用pandas库将训练数据集'train_titanic.csv'与测试数据集'test_titanic.csv'载入到Dataframe对象中</span>"
   ]
  },
  {
   "cell_type": "markdown",
   "metadata": {},
   "source": [
    "<span style=\"color:purple\">2)利用上个实验所使用的梯度下降方法(由于该数据集样本数量较大，所以建议使用随机批量或小批量)进行模型训练</span>"
   ]
  },
  {
   "cell_type": "markdown",
   "metadata": {},
   "source": [
    "<span style=\"color:purple\">3) 使用训练后的逻辑回归模型对测试数据集'test_titanic.csv'进行预测，并计算其loss值：</span>"
   ]
  },
  {
   "cell_type": "code",
   "execution_count": 108,
   "metadata": {},
   "outputs": [
    {
     "name": "stdout",
     "output_type": "stream",
     "text": [
      "-0.6777048429967718 -0.0533684744449386 0.02334084510601394 1.4119550482562189 -0.37249776090990916\n",
      "0.7133333333333334\n",
      "0.13000185889813892\n"
     ]
    }
   ],
   "source": [
    "#your code here------\n",
    "train_titanic_frame=pd.read_csv('train_titanic.csv')\n",
    "train_titanic=np.array(train_titanic_frame)\n",
    "test_frame=pd.read_csv('test_titanic.csv')\n",
    "test=np.array(test_frame)\n",
    "w0=w1=w2=w3=w4=0\n",
    "eta=0.0001\n",
    "loss=0\n",
    "count=0\n",
    "try:\n",
    "    while True:\n",
    "        last_loss=loss\n",
    "        mx1=mx2=mx3=mx4=0\n",
    "        x0=1\n",
    "        m0=0\n",
    "        loss=0\n",
    "        n=random.randint(0,len(train_titanic)-1)\n",
    "        yuce=w0+w1*train_titanic[n,1]+w2*train_titanic[n,2]+w3*train_titanic[n,3]+w4*train_titanic[n,4]\n",
    "        x1=train_titanic[n,1]\n",
    "        x2=train_titanic[n,2]\n",
    "        x3=train_titanic[n,3]\n",
    "        x4=train_titanic[n,5]\n",
    "        y=train_titanic[n,7]\n",
    "        m0=x0*(1-1/(1+math.exp(yuce))-y)\n",
    "        mx1=x1*(1-1/(1+math.exp(yuce))-y)\n",
    "        mx2=x2*(1-1/(1+math.exp(yuce))-y)\n",
    "        mx3=x3*(1-1/(1+math.exp(yuce))-y)\n",
    "        mx4=x4*(1-1/(1+math.exp(yuce))-y)\n",
    "        loss-=np.log(y/(1+math.exp(-yuce))+(1-y)*(1-1/(1+math.exp(-yuce))))\n",
    "        w0=w0-eta*m0\n",
    "        w1=w1-eta*mx1\n",
    "        w2=w2-eta*mx2\n",
    "        w3=w3-eta*mx3\n",
    "        w4=w4-eta*mx4 \n",
    "        count+=1        \n",
    "        if abs(loss-last_loss)<1e-6:\n",
    "            break;\n",
    "except (OverflowError):\n",
    "    True\n",
    "print(w0,w1,w2,w3,w4)        \n",
    "num=0\n",
    "yuce_loss=0\n",
    "for i in range(len(test)):\n",
    "    yuce=w0+w1*test[i,1]+w2*test[i,2]+w3*test[i,3]+w4*test[i,5]\n",
    "    y=test[i,7]\n",
    "    yuce_loss-=np.log(y/(1+math.exp(-yuce))+(1-y)*(1-1/(1+math.exp(-yuce))))\n",
    "    if y>0 and test[i,7]==1:\n",
    "        num+=1\n",
    "    if y<0 and test[i,7]==0:\n",
    "        num+=1\n",
    "yuce_loss=yuce_loss/len(test)\n",
    "print(num/len(test))\n",
    "print(yuce_loss)"
   ]
  },
  {
   "cell_type": "code",
   "execution_count": 90,
   "metadata": {},
   "outputs": [],
   "source": [
    "#your code here------\n"
   ]
  }
 ],
 "metadata": {
  "kernelspec": {
   "display_name": "Python 3",
   "language": "python",
   "name": "python3"
  },
  "language_info": {
   "codemirror_mode": {
    "name": "ipython",
    "version": 3
   },
   "file_extension": ".py",
   "mimetype": "text/x-python",
   "name": "python",
   "nbconvert_exporter": "python",
   "pygments_lexer": "ipython3",
   "version": "3.7.4"
  }
 },
 "nbformat": 4,
 "nbformat_minor": 5
}
