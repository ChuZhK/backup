{
 "cells": [
  {
   "cell_type": "code",
   "execution_count": 28,
   "metadata": {},
   "outputs": [
    {
     "name": "stdout",
     "output_type": "stream",
     "text": [
      "[[1 3 2]\n",
      " [3 5 4]\n",
      " [5 7 6]\n",
      " [7 9 8]]\n",
      "[8.388905057061258, 11.968118785068667, 14.679778259697091, 16.959459810049353]\n",
      "4\n",
      "51.996261911876374\n"
     ]
    }
   ],
   "source": [
    "import numpy as np\n",
    "import pandas as pd\n",
    "import math\n",
    "def myfun(x):\n",
    "    p=math.pow(x,0.5)\n",
    "    return p\n",
    "ss_frame=pd.read_csv('num.csv')\n",
    "s=np.array(ss_frame)\n",
    "print(s)\n",
    "p=[]\n",
    "n=0\n",
    "gh=0\n",
    "while n<len(s):\n",
    "    j=myfun(s[n][0])+myfun(s[n][1])+myfun(s[n][2])*4\n",
    "    p.append(j)\n",
    "    gh+=j\n",
    "    n+=1\n",
    "print(p)\n",
    "print(len(p))\n",
    "print(gh)"
   ]
  },
  {
   "cell_type": "code",
   "execution_count": null,
   "metadata": {},
   "outputs": [],
   "source": []
  }
 ],
 "metadata": {
  "kernelspec": {
   "display_name": "Python 3",
   "language": "python",
   "name": "python3"
  },
  "language_info": {
   "codemirror_mode": {
    "name": "ipython",
    "version": 3
   },
   "file_extension": ".py",
   "mimetype": "text/x-python",
   "name": "python",
   "nbconvert_exporter": "python",
   "pygments_lexer": "ipython3",
   "version": "3.7.4"
  }
 },
 "nbformat": 4,
 "nbformat_minor": 2
}
