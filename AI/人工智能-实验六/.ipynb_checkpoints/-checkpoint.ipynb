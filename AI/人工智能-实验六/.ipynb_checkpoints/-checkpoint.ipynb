{
 "cells": [
  {
   "cell_type": "markdown",
   "metadata": {},
   "source": [
    "**<font color = black size=6>实验六:降维和聚类</font>**"
   ]
  },
  {
   "cell_type": "code",
   "execution_count": null,
   "metadata": {},
   "outputs": [],
   "source": [
    "import math\n",
    "import random\n",
    "import statistics\n",
    "import matplotlib as mpl\n",
    "from pandas.core.frame import DataFrame\n",
    "import warnings\n",
    "\n",
    "warnings.filterwarnings('ignore')\n",
    "train_data_frame = pd.read_csv('train_data.csv')\n",
    "train = np.array(train_data_frame)\n",
    "X = train.T\n",
    "X = X.reshape(9, 167)\n",
    "\n",
    "\n",
    "# 计算欧氏距离\n",
    "def dis(x, y):\n",
    "    sum = 0\n",
    "    for i in range(len(x)):\n",
    "        sum += (x[i] - y[i]) * (x[i] - y[i])\n",
    "    sum = math.pow(sum, 0.5)\n",
    "    return sum\n",
    "\n",
    "aver_X = np.average(X, axis=1)\n",
    "aver_X = aver_X.reshape(9, 1)\n",
    "X = X - aver_X\n",
    "COV = X.dot(X.T) / 176\n",
    "\n",
    "vals, vecs = np.linalg.eig(COV)\n",
    "# print(\"该矩阵的特征值:\", vals)\n",
    "# print(\"该矩阵的特征向量:\\n\", vecs)\n",
    "print((vals[0] + vals[1]) / vals.sum())\n",
    "\n",
    "vecs_T = vecs.T\n",
    "c = [(vals[i], vecs[i]) for i in range(len(vals))]\n",
    "c = sorted(c)\n",
    "c.reverse()  # 按降序排列的特征值和特征向量\n",
    "p = []\n",
    "p.append(c[0][1])\n",
    "p.append(c[1][1])\n",
    "p = (np.array(p)).T\n",
    "# print(p.shape)\n",
    "Z = p.T.dot(X)\n",
    "print(Z.shape)\n",
    "Z_T = Z.T\n",
    "COV2 = np.cov(Z)\n",
    "m = Z.dot(Z_T)\n",
    "print(\"Z_T:\\n\", Z_T.dot(Z))\n"
   ]
  },
  {
   "cell_type": "markdown",
   "metadata": {},
   "source": [
    "本次实验为编写机器学习中的用于降维的PCA(主成分分析)和聚类的k-means算法。在本次实验中，我们将对一个维度过高的数据集进行降维，之后对降维后的数据进行聚类。"
   ]
  },
  {
   "cell_type": "code",
   "execution_count": 5,
   "metadata": {},
   "outputs": [],
   "source": [
    "import pandas as pd\n",
    "import numpy as np\n",
    "import matplotlib.pyplot as plt\n",
    "import math\n",
    "import matplotlib as mpl\n",
    "from pandas.core.frame import DataFrame\n",
    "import warnings\n",
    "warnings.filterwarnings('ignore')"
   ]
  },
  {
   "cell_type": "markdown",
   "metadata": {},
   "source": [
    "**<font color = blue size=4>第一部分:函数介绍</font>**"
   ]
  },
  {
   "cell_type": "markdown",
   "metadata": {},
   "source": [
    "介绍一些可以用到的函数"
   ]
  },
  {
   "cell_type": "markdown",
   "metadata": {},
   "source": [
    "1.计算方阵的特征值和特征向量"
   ]
  },
  {
   "cell_type": "code",
   "execution_count": 6,
   "metadata": {},
   "outputs": [
    {
     "name": "stdout",
     "output_type": "stream",
     "text": [
      "该矩阵的特征值: [1. 2. 3.]\n",
      "该矩阵的特征向量: [[1. 0. 0.]\n",
      " [0. 1. 0.]\n",
      " [0. 0. 1.]]\n"
     ]
    }
   ],
   "source": [
    "a=np.array([[1,0,0],[0,2,0],[0,0,3]])\n",
    "vals,vecs=np.linalg.eig(a)\n",
    "print(\"该矩阵的特征值:\",vals)\n",
    "print(\"该矩阵的特征向量:\",vecs)"
   ]
  },
  {
   "cell_type": "markdown",
   "metadata": {},
   "source": [
    "2.排序函数"
   ]
  },
  {
   "cell_type": "code",
   "execution_count": 7,
   "metadata": {},
   "outputs": [
    {
     "name": "stdout",
     "output_type": "stream",
     "text": [
      "[1, 2, 3, 4]\n",
      "未排序前: [(3, [0, 0, 3, 0]), (1, [1, 0, 0, 0]), (2, [0, 2, 0, 0]), (4, [0, 0, 0, 4])]\n",
      "排序后: [(1, [1, 0, 0, 0]), (2, [0, 2, 0, 0]), (3, [0, 0, 3, 0]), (4, [0, 0, 0, 4])]\n"
     ]
    }
   ],
   "source": [
    "#list的排序\n",
    "a=[3,1,2,4]\n",
    "a.sort()\n",
    "print(a)\n",
    "#字典的排序\n",
    "a=[3,1,2,4]\n",
    "b=[[0,0,3,0],[1,0,0,0],[0,2,0,0],[0,0,0,4]]\n",
    "c = [(a[i],b[i]) for i in range(len(a))]\n",
    "print(\"未排序前:\",c)\n",
    "c=sorted(c)\n",
    "print(\"排序后:\",c)"
   ]
  },
  {
   "cell_type": "markdown",
   "metadata": {},
   "source": [
    "**<font color = blue size=4>第二部分:实验任务</font>**"
   ]
  },
  {
   "cell_type": "markdown",
   "metadata": {},
   "source": [
    "**<font color = green size=3>1):降维</font>**"
   ]
  },
  {
   "cell_type": "markdown",
   "metadata": {},
   "source": [
    "<span style=\"color:purple\">1.将训练集\"train_data.csv\"导入，训练集共有167个样本，每个样本有9个属性，将原始数据按列组成9行167列的矩阵X</span>"
   ]
  },
  {
   "cell_type": "code",
   "execution_count": null,
   "metadata": {},
   "outputs": [],
   "source": [
    "import pandas as pd\n",
    "import numpy as np\n",
    "import matplotlib.pyplot as plt\n",
    "import math\n",
    "import statistics\n",
    "import matplotlib as mpl\n",
    "from pandas.core.frame import DataFrame\n",
    "import warnings\n",
    "warnings.filterwarnings('ignore')\n",
    "train_data_frame=pd.read_csv('train_data.csv')\n",
    "train=np.array(train_data_frame)\n",
    "X=train.T\n",
    "X=X.reshape(9,167)\n",
    "#打印结果\n",
    "print(X)"
   ]
  },
  {
   "cell_type": "markdown",
   "metadata": {},
   "source": [
    "<span style=\"color:purple\">2.对所有样本进行中心化，即将X的每一行减去这一行的均值</span>"
   ]
  },
  {
   "cell_type": "code",
   "execution_count": 4,
   "metadata": {},
   "outputs": [
    {
     "name": "stdout",
     "output_type": "stream",
     "text": [
      "aver: 38.27005988023952\n",
      "aver: 41.10897604790419\n",
      "aver: 6.815688622754491\n",
      "aver: 46.89021497005988\n",
      "aver: 17144.688622754493\n",
      "aver: 7.781832335329342\n",
      "aver: 70.55568862275449\n",
      "aver: 2.9479640718562874\n",
      "aver: 12964.155688622754\n",
      "[[3.82700599e+01]\n",
      " [4.11089760e+01]\n",
      " [6.81568862e+00]\n",
      " [4.68902150e+01]\n",
      " [1.71446886e+04]\n",
      " [7.78183234e+00]\n",
      " [7.05556886e+01]\n",
      " [2.94796407e+00]\n",
      " [1.29641557e+04]]\n",
      "s_shape (9, 167)\n",
      "[[ 5.19299401e+01 -2.16700599e+01 -1.09700599e+01 ... -1.49700599e+01\n",
      "   1.80299401e+01  4.48299401e+01]\n",
      " [-3.11089760e+01 -1.31089760e+01 -2.70897605e+00 ...  3.08910240e+01\n",
      "  -1.11089760e+01 -4.10897605e+00]\n",
      " [ 7.64311377e-01 -2.65688623e-01 -2.64568862e+00 ...  2.43113772e-02\n",
      "  -1.63568862e+00 -9.25688623e-01]\n",
      " ...\n",
      " [-1.43556886e+01  5.74431138e+00  5.94431138e+00 ...  2.54431138e+00\n",
      "  -3.05568862e+00 -1.85556886e+01]\n",
      " [ 2.87203593e+00 -1.29796407e+00 -5.79640719e-02 ... -9.97964072e-01\n",
      "   1.72203593e+00  2.45203593e+00]\n",
      " [-1.24111557e+04 -8.87415569e+03 -8.50415569e+03 ... -1.16541557e+04\n",
      "  -1.16541557e+04 -1.15041557e+04]]\n"
     ]
    }
   ],
   "source": []
  },
  {
   "cell_type": "markdown",
   "metadata": {},
   "source": [
    "<span style=\"color:purple\">3.求出协方差矩阵$X$.$X^T$</span>"
   ]
  },
  {
   "cell_type": "code",
   "execution_count": 3,
   "metadata": {},
   "outputs": [
    {
     "name": "stdout",
     "output_type": "stream",
     "text": [
      "(2, 9)\n",
      "z_shape: (2, 167)\n",
      "[38.27005988023952, 41.10897604790419]\n",
      "[[ 5.19299401e+01 -2.16700599e+01 -1.09700599e+01  8.07299401e+01\n",
      "  -2.79700599e+01 -2.37700599e+01 -2.01700599e+01 -3.34700599e+01\n",
      "  -3.39700599e+01  9.29940120e-01 -2.44700599e+01 -2.96700599e+01\n",
      "   1.11299401e+01 -2.40700599e+01 -3.27700599e+01 -3.37700599e+01\n",
      "  -1.94700599e+01  7.27299401e+01  4.42994012e+00  8.32994012e+00\n",
      "  -3.13700599e+01  1.42299401e+01 -1.84700599e+01 -2.77700599e+01\n",
      "  -2.74700599e+01  7.77299401e+01  5.53299401e+01  6.12994012e+00\n",
      "   6.97299401e+01 -3.26700599e+01 -1.17700599e+01  1.10729940e+02\n",
      "   1.11729940e+02 -2.95700599e+01 -2.25700599e+01 -1.96700599e+01\n",
      "   4.99299401e+01  7.77299401e+01  2.56299401e+01 -2.80700599e+01\n",
      "   7.27299401e+01 -3.27700599e+01 -3.46700599e+01 -3.48700599e+01\n",
      "  -3.41700599e+01 -3.87005988e+00 -1.31700599e+01 -9.17005988e+00\n",
      "  -1.90700599e+01  7.27299401e+01  1.69299401e+01 -3.37700599e+01\n",
      "  -1.41700599e+01 -3.52700599e+01 -3.40700599e+01  2.54299401e+01\n",
      "   4.20299401e+01 -2.17700599e+01 -3.40700599e+01  3.64299401e+01\n",
      "  -3.43700599e+01 -2.36700599e+01 -2.87005988e+00  7.07299401e+01\n",
      "   7.57299401e+01 -6.70059880e-01  1.69729940e+02 -3.22700599e+01\n",
      "  -3.56700599e+01  2.05299401e+01 -4.97005988e+00 -1.89700599e+01\n",
      "  -1.37005988e+00 -3.40700599e+01 -3.36700599e+01 -3.42700599e+01\n",
      "  -2.01700599e+01 -3.50700599e+01 -1.71700599e+01 -1.67700599e+01\n",
      "   2.39299401e+01  2.44299401e+01 -2.74700599e+01 -8.67005988e+00\n",
      "   4.06299401e+01 -3.04700599e+01 -2.79700599e+01  6.14299401e+01\n",
      "   5.10299401e+01 -2.16700599e+01 -3.21700599e+01 -3.54700599e+01\n",
      "  -2.78700599e+01  2.39299401e+01  5.22299401e+01 -3.03700599e+01\n",
      "  -2.50700599e+01  9.87299401e+01 -3.14700599e+01  5.91299401e+01\n",
      "  -2.32700599e+01  1.72994012e+00 -2.10700599e+01 -1.21700599e+01\n",
      "  -3.14700599e+01 -4.77005988e+00  6.27299401e+01  2.61299401e+01\n",
      "   1.77299401e+01  8.72994012e+00 -3.37700599e+01 -3.20700599e+01\n",
      "   8.47299401e+01  9.17299401e+01 -3.50700599e+01 -2.65700599e+01\n",
      "   5.38299401e+01 -1.85700599e+01 -1.41700599e+01 -1.79700599e+01\n",
      "  -6.37005988e+00 -3.22700599e+01 -3.43700599e+01 -2.92700599e+01\n",
      "  -2.67700599e+01 -2.82700599e+01  2.53299401e+01 -1.93700599e+01\n",
      "  -2.25700599e+01  2.85299401e+01 -3.06700599e+01 -2.38700599e+01\n",
      "   1.21729940e+02 -3.54700599e+01 -3.12700599e+01 -3.50700599e+01\n",
      "  -1.01700599e+01  1.54299401e+01 -3.41700599e+01 -3.44700599e+01\n",
      "  -2.70700599e+01 -1.75700599e+01  3.84299401e+01 -1.41700599e+01\n",
      "  -3.52700599e+01 -3.37700599e+01  1.41299401e+01  3.36299401e+01\n",
      "  -2.33700599e+01  2.43299401e+01  5.20299401e+01 -2.08700599e+01\n",
      "  -2.08700599e+01 -1.91700599e+01  2.37299401e+01  4.27299401e+01\n",
      "  -2.65700599e+01 -2.96700599e+01 -3.30700599e+01 -3.09700599e+01\n",
      "  -2.76700599e+01 -1.97005988e+00 -9.07005988e+00 -2.11700599e+01\n",
      "  -1.49700599e+01  1.80299401e+01  4.48299401e+01]\n",
      " [-3.11089760e+01 -1.31089760e+01 -2.70897605e+00  2.11910240e+01\n",
      "   4.39102395e+00 -2.22089760e+01 -2.03089760e+01 -2.13089760e+01\n",
      "   1.01910240e+01  1.31910240e+01 -6.10897605e+00  2.83910240e+01\n",
      "  -2.51089760e+01 -1.60897605e+00  1.02910240e+01  3.52910240e+01\n",
      "   1.70910240e+01 -1.73089760e+01  1.39102395e+00  9.10239521e-02\n",
      "  -1.14089760e+01  2.49102395e+00 -3.04089760e+01  2.62910240e+01\n",
      "   9.09102395e+00 -2.19089760e+01 -3.21889760e+01  1.29910240e+01\n",
      "  -1.89089760e+01 -1.20089760e+01 -8.40897605e+00 -2.93089760e+01\n",
      "  -4.30897605e+00 -3.40897605e+00 -1.48089760e+01 -2.52089760e+01\n",
      "  -2.46089760e+01 -8.97604790e-03  4.39910240e+01 -7.90897605e+00\n",
      "   9.49102395e+00 -3.50897605e+00  9.09102395e+00  2.48910240e+01\n",
      "   9.39102395e+00 -1.84089760e+01 -1.32089760e+01 -1.98089760e+01\n",
      "  -1.42089760e+01  4.46910240e+01 -3.63189760e+01  3.39910240e+01\n",
      "   1.66910240e+01 -2.40897605e+00 -1.43089760e+01  1.65910240e+01\n",
      "  -1.73089760e+01 -6.10897605e+00  1.19102395e+00 -1.16089760e+01\n",
      "  -1.90089760e+01 -1.73089760e+01 -1.53089760e+01 -1.08089760e+01\n",
      "  -2.62089760e+01  1.02910240e+01 -2.58089760e+01  4.06910240e+01\n",
      "   1.22910240e+01 -1.85089760e+01 -1.68089760e+01 -1.67089760e+01\n",
      "  -1.70897605e+00  6.18910240e+01 -6.10897605e+00 -1.59089760e+01\n",
      "  -9.80897605e+00 -2.61089760e+01  7.19102395e+00  3.09102395e+00\n",
      "  -2.04089760e+01 -2.78089760e+01  2.55910240e+01  1.04910240e+01\n",
      "  -5.70897605e+00  1.25910240e+01 -5.30897605e+00 -1.70897605e+00\n",
      "  -2.20089760e+01  2.44910240e+01  2.41910240e+01  1.33891024e+02\n",
      "  -1.30897605e+00 -1.61089760e+01 -1.83089760e+01  4.57910240e+01\n",
      "   3.64910240e+01 -1.83089760e+01  1.11891024e+02  9.59102395e+00\n",
      "   1.00910240e+01 -1.76089760e+01 -1.90897605e+00  5.59102395e+00\n",
      "  -4.10897605e+00 -8.90897605e+00 -9.60897605e+00 -4.09999760e+01\n",
      "   6.69102395e+00 -3.15289760e+01  3.08910240e+01 -1.08089760e+01\n",
      "  -1.89089760e+01 -1.58089760e+01 -1.40897605e+00  2.45910240e+01\n",
      "  -2.76089760e+01  2.88910240e+01  1.39910240e+01 -1.33089760e+01\n",
      "  -6.30897605e+00 -1.00897605e+00 -1.12089760e+01  2.11910240e+01\n",
      "  -8.50897605e+00 -1.19089760e+01 -2.91089760e+01 -1.19089760e+01\n",
      "   8.49102395e+00 -1.62089760e+01 -8.20897605e+00  5.26910240e+01\n",
      "  -2.43089760e+01  1.58891024e+02  3.51910240e+01  2.31910240e+01\n",
      "   8.19102395e+00 -1.25089760e+01  8.29102395e+00 -1.56089760e+01\n",
      "  -2.15089760e+01 -1.42089760e+01 -2.14089760e+01  1.13910240e+01\n",
      "   5.09102395e+00  2.28910240e+01 -2.62089760e+01 -2.24089760e+01\n",
      "   2.53910240e+01 -3.89089760e+01 -9.08976048e-01 -2.87089760e+01\n",
      "   9.39102395e+00 -2.07089760e+01  3.51910240e+01 -2.40089760e+01\n",
      "   5.99102395e+00  3.65910240e+01 -1.29089760e+01 -2.87089760e+01\n",
      "  -1.48089760e+01 -9.40897605e+00  5.49102395e+00 -1.26089760e+01\n",
      "   3.08910240e+01 -1.11089760e+01 -4.10897605e+00]]\n",
      "cov: \n",
      " [[1626.42271265 -351.65112783]\n",
      " [-351.65112783  751.41829835]]\n",
      "vals:\n",
      " [1750.22852875  627.61248225] \n",
      "vecs:\n",
      " [[ 0.94324795  0.33208931]\n",
      " [-0.33208931  0.94324795]]\n"
     ]
    }
   ],
   "source": []
  },
  {
   "cell_type": "markdown",
   "metadata": {},
   "source": [
    "<span style=\"color:purple\">4.对协方差矩阵$X$.$X^T$做特征值分解，即求出协方差矩阵的特征值$\\vec{\\lambda}=\\{\\lambda_1,\\lambda_2,...,\\lambda_d\\}$及对应的特征向量$\\vec{\\omega}=\\{\\omega_1,\\omega_2,...,\\omega_d\\}$. 其中$\\lambda_i \\sim \\omega_i$.</span>"
   ]
  },
  {
   "cell_type": "code",
   "execution_count": null,
   "metadata": {},
   "outputs": [],
   "source": []
  },
  {
   "cell_type": "markdown",
   "metadata": {},
   "source": [
    "<span style=\"color:purple\">5.选取降维后的维度k：依据特征值计算方差的贡献率，先将所有特征值按照降序进行排序。要求降维后的数据方差占比超过阈值t%，公式如下. 我们这里取阈值为t%=99%:\n",
    "    $$\\frac{\\sum_{i=1}^k\\lambda_i}{\\sum_{i=1}^k\\lambda_i} \\geq t\\%$$\n",
    "</span>"
   ]
  },
  {
   "cell_type": "code",
   "execution_count": null,
   "metadata": {},
   "outputs": [],
   "source": []
  },
  {
   "cell_type": "markdown",
   "metadata": {},
   "source": [
    "<span style=\"color:purple\">6.将特征向量按对应特征值大小从上到下按行排列，取前k个对应特征值最大的特征向量组成投影矩阵W=($\\omega_1,\\omega_2,...,\\omega_k$)</span>"
   ]
  },
  {
   "cell_type": "code",
   "execution_count": null,
   "metadata": {},
   "outputs": [],
   "source": []
  },
  {
   "cell_type": "markdown",
   "metadata": {},
   "source": [
    "<span style=\"color:purple\">7.根据公式$Y=P.X$得到降维到k维后的数据集Y。"
   ]
  },
  {
   "cell_type": "code",
   "execution_count": null,
   "metadata": {},
   "outputs": [],
   "source": []
  },
  {
   "cell_type": "markdown",
   "metadata": {},
   "source": [
    "**<font color = green size=3>2):聚类</font>**"
   ]
  },
  {
   "cell_type": "markdown",
   "metadata": {},
   "source": [
    "由于降维实验任务中降维后的维数符号为k，而聚类实验中聚类数目的符号也为k，为了区别，我们将聚类实验中聚类数目的符号改为$k_c$"
   ]
  },
  {
   "cell_type": "markdown",
   "metadata": {},
   "source": [
    "<span style=\"color:purple\">1.首先编写计算衡量样本间的相似度的距离，这里列举两种距离公式.</span>\n",
    "    \n",
    "<span style=\"color:purple\">a.曼哈顿距离计算公式:  \n",
    "    对于两个d维的样本$x_i$,$x_j$,他们的曼哈顿距离计算公式为:  \n",
    "    $$dist_{man}(x_i,x_j)=\\sum_{u=1}^d |x_{iu}-x_{ju}|$$\n",
    "其中$x_{iu}$和$x_{ju}$分别为样本$x_i$和$x_j$的第u维特征值</span>\n",
    "\n",
    "<span style=\"color:purple\">b.欧式距离计算公式:  \n",
    "    对于两个d维的样本$x_i$,$x_j$,他们的欧式距离计算公式为:  \n",
    "    $$dist_{ed}(x_i,x_j)=\\sqrt{\\sum_{u=1}^d (x_{iu}-x_{ju})^2}$$\n",
    "其中$x_{iu}$和$x_{ju}$分别为样本$x_i$和$x_j$的第u维特征值</span>"
   ]
  },
  {
   "cell_type": "code",
   "execution_count": 8,
   "metadata": {},
   "outputs": [],
   "source": [
    "#这里选取了欧式距离\n",
    "def dis(x,y):\n",
    "    sum=0\n",
    "    for i in range(len(x)):\n",
    "        sum+=(x[i]-y[i])*(x[i]-y[i])\n",
    "    sum=math.pow(sum,0.5)\n",
    "    return sum"
   ]
  },
  {
   "cell_type": "markdown",
   "metadata": {},
   "source": [
    "<span style=\"color:purple\">2.确定聚类簇数$k_{c}$，然后从前面所得到的降维数据集Y中随机选取$k_{c}$个样本作为初始均值向量$\\{\\mu_1,\\mu_2,...,\\mu_{k_{c}}\\}$</span>\n"
   ]
  },
  {
   "cell_type": "code",
   "execution_count": null,
   "metadata": {},
   "outputs": [],
   "source": [
    "K=[]\n",
    "i=0\n",
    "while i<k_c:\n",
    "    n=random.randint(0,len(Y[:,0]))\n",
    "    K.append(Y[n,:])\n",
    "    i+=1"
   ]
  },
  {
   "cell_type": "markdown",
   "metadata": {},
   "source": [
    "<span style=\"color:purple\">3.开始进行迭代。每一轮更新均值向量，直到均值向量不再变化则停止迭代</span>"
   ]
  },
  {
   "cell_type": "markdown",
   "metadata": {},
   "source": [
    "<span style=\"color:purple\">迭代步骤1).遍历每个样本$x_j$,计算其与当前的各个均值向量$\\mu_i$的距离$d_{ji}$，比较与每个均值向量的距离大小，\n",
    "   $$\\lambda_j=arg min_{i \\in \\{1,2,...,k_{c}\\}}d_{ji}$$ \n",
    "    将其划入与其距离最近的簇中。\n",
    "$$C_{\\lambda_j}=C_{\\lambda_j}\\bigcup{x_j}$$</span>\n",
    "<span style=\"color:purple\">迭代步骤2).将所有样本划分完成生成$k_{c}$个簇$\\{C_1,C_2,...,C_{k_{c}}\\}$。对于每个簇$C_i$，计算该簇的新均值向量，公式为:\n",
    "$$\\mu_i^{'}=\\frac{1}{|C_i|}\\sum_{x \\in C_i}x$$</span>\n",
    "<span style=\"color:purple\">迭代步骤3).将更新的均值向量$\\{\\mu_1^{'},\\mu_2^{'},...,\\mu_{k_{c}}^{'}\\}$与该轮未更新前的均值向量$\\{\\mu_1,\\mu_2,...,\\mu_{k_{c}}\\}$进行比较.  如果完全一样，则结束迭代；如果不一样，则继续迭代.</span>"
   ]
  },
  {
   "cell_type": "code",
   "execution_count": null,
   "metadata": {},
   "outputs": [],
   "source": []
  },
  {
   "cell_type": "markdown",
   "metadata": {},
   "source": [
    "<span style=\"color:purple\">4.判断是否有空簇，返回所有非空的簇</span>"
   ]
  },
  {
   "cell_type": "code",
   "execution_count": null,
   "metadata": {},
   "outputs": [],
   "source": []
  },
  {
   "cell_type": "markdown",
   "metadata": {},
   "source": [
    "<span style=\"color:purple\">5.请从降维的属性值选择其中两个作为绘图的横纵坐标，将所有样本绘制到一张图中，其中同一聚类的样本点绘制为相同颜色</span>"
   ]
  },
  {
   "cell_type": "code",
   "execution_count": null,
   "metadata": {},
   "outputs": [],
   "source": []
  },
  {
   "cell_type": "markdown",
   "metadata": {},
   "source": [
    "**<font color = blue size=4>第三部分:作业提交</font>**"
   ]
  },
  {
   "cell_type": "markdown",
   "metadata": {},
   "source": [
    "一、实验课下课前提交完成代码，如果下课前未完成，请将已经完成的部分进行提交，未完成的部分于之后的实验报告中进行补充  \n",
    "要求:  \n",
    "1)文件格式为：学号-姓名.ipynb  \n",
    "2)【不要】提交文件夹、压缩包、数据集等无关文件，只需提交单个ipynb文件即可，如果交错请到讲台前联系助教，删掉之前的错误版本后再进行提交"
   ]
  },
  {
   "cell_type": "markdown",
   "metadata": {},
   "source": [
    "二、因为下周为考试周，本次实验报告下下周（4月29号前）交  \n",
    "要求：  \n",
    "1)文件格式为：学号-姓名.pdf  \n",
    "2)【不要】提交文件夹、压缩包、代码文件、数据集等任何与实验报告无关的文件，只需要提交单个pdf文件即可  \n",
    "3)文件命名时不需要额外添加“实验几”等额外信息，按照格式提交  \n",
    "4)每周的实验报告提交地址会变化，且有时间限制，提交时间为下周的实验课开始时，请注意及时提交。"
   ]
  },
  {
   "cell_type": "markdown",
   "metadata": {},
   "source": [
    "实验六(降维和聚类)的实验报告:  \n",
    "截止时间：2022-04-29 10:10  \n",
    "提交地址：https://workspace.jianguoyun.com/inbox/collect/ca2e57db0307478f99e50dbf0f8b3cb6/submit"
   ]
  },
  {
   "cell_type": "markdown",
   "metadata": {},
   "source": [
    "三、课堂课件获取地址:https://www.jianguoyun.com/p/DQlpUFYQp5WhChiS_q0E  \n",
    "实验内容获取地址:https://www.jianguoyun.com/p/DbKbP-AQp5WhChi1sa0E"
   ]
  }
 ],
 "metadata": {
  "kernelspec": {
   "display_name": "Python 3",
   "language": "python",
   "name": "python3"
  },
  "language_info": {
   "codemirror_mode": {
    "name": "ipython",
    "version": 3
   },
   "file_extension": ".py",
   "mimetype": "text/x-python",
   "name": "python",
   "nbconvert_exporter": "python",
   "pygments_lexer": "ipython3",
   "version": "3.7.4"
  }
 },
 "nbformat": 4,
 "nbformat_minor": 5
}
