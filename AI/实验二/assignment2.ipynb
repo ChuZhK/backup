{
 "cells": [
  {
   "cell_type": "markdown",
   "metadata": {},
   "source": [
    "# 线性回归（一）"
   ]
  },
  {
   "cell_type": "code",
   "execution_count": 1,
   "metadata": {},
   "outputs": [],
   "source": [
    "import pandas as pd\n",
    "import numpy as np\n",
    "import matplotlib.pyplot as plt"
   ]
  },
  {
   "cell_type": "markdown",
   "metadata": {},
   "source": [
    "<span style=\"color:purple\">0) 介绍一些可能用到的numpy库的函数。</span>"
   ]
  },
  {
   "cell_type": "code",
   "execution_count": 2,
   "metadata": {},
   "outputs": [
    {
     "name": "stdout",
     "output_type": "stream",
     "text": [
      "A:\n",
      " [[1 2 3]\n",
      " [4 5 6]] \n",
      "\n",
      "B:\n",
      " [[1. 1.]\n",
      " [1. 1.]\n",
      " [1. 1.]] \n",
      "\n",
      "C:\n",
      " [[0. 0.]\n",
      " [0. 0.]\n",
      " [0. 0.]] \n",
      "\n"
     ]
    }
   ],
   "source": [
    "#一些可能用到的numpy库的函数\n",
    "\n",
    "#创建numpy矩阵\n",
    "A = np.array([[1, 2, 3],[4, 5, 6]]) #创建矩阵\n",
    "B = np.ones((3, 2)) #创建全1矩阵\n",
    "C = np.zeros((3, 2)) #创建全0矩阵\n",
    "print('A:\\n',A,'\\n')\n",
    "print('B:\\n',B,'\\n')\n",
    "print('C:\\n',C,'\\n')"
   ]
  },
  {
   "cell_type": "code",
   "execution_count": 3,
   "metadata": {},
   "outputs": [
    {
     "name": "stdout",
     "output_type": "stream",
     "text": [
      "D:\n",
      " [[1 0 0 0]\n",
      " [0 2 0 0]\n",
      " [0 0 3 0]\n",
      " [0 0 0 4]] \n",
      "\n",
      "[[0 0]\n",
      " [2 0]] \n",
      "\n",
      "[[0]\n",
      " [0]\n",
      " [3]\n",
      " [0]] \n",
      "\n"
     ]
    }
   ],
   "source": [
    "#提取矩阵的某几行和某几列\n",
    "D = np.array([[1, 0, 0, 0],[0, 2, 0, 0],[0, 0, 3, 0],[0, 0, 0, 4]])\n",
    "print('D:\\n',D,'\\n')\n",
    "print(D[0:2, 1:3],'\\n') #提取矩阵的0-1行、1-2列的元素，返回一个2×2的矩阵\n",
    "print(D[:, 2:3],'\\n') #提取第2列上的所有元素，返回一个4×1的矩阵"
   ]
  },
  {
   "cell_type": "code",
   "execution_count": 4,
   "metadata": {},
   "outputs": [
    {
     "name": "stdout",
     "output_type": "stream",
     "text": [
      "E:\n",
      " [[3 2 1]\n",
      " [6 8 3]] \n",
      "\n",
      "The transpose of E:\n",
      " [[3 6]\n",
      " [2 8]\n",
      " [1 3]] \n",
      "\n"
     ]
    }
   ],
   "source": [
    "#矩阵的转置\n",
    "E = np.array([[3,2,1],[6,8,3]])\n",
    "print('E:\\n',E,'\\n')\n",
    "print('The transpose of E:\\n',E.T,'\\n')"
   ]
  },
  {
   "cell_type": "code",
   "execution_count": 5,
   "metadata": {},
   "outputs": [
    {
     "name": "stdout",
     "output_type": "stream",
     "text": [
      "F:\n",
      " [[0 1 1]\n",
      " [4 2 3]] \n",
      "\n",
      "G:\n",
      " [[0 8 1]\n",
      " [4 4 4]] \n",
      "\n",
      "F + G:\n",
      " [[0 9 2]\n",
      " [8 6 7]] \n",
      "\n",
      "F - G:\n",
      " [[ 0 -7  0]\n",
      " [ 0 -2 -1]] \n",
      "\n",
      "F * G:\n",
      " [[ 0  8  1]\n",
      " [16  8 12]] \n",
      "\n"
     ]
    }
   ],
   "source": [
    "#矩阵的加/减/星乘(要求两个矩阵的行数相同、列数也相同)\n",
    "F = np.array([[0,1,1],[4,2,3]])\n",
    "G = np.array([[0,8,1],[4,4,4]])\n",
    "print('F:\\n',F,'\\n')\n",
    "print('G:\\n',G,'\\n')\n",
    "print('F + G:\\n',F + G,'\\n')\n",
    "print('F - G:\\n',F - G,'\\n')\n",
    "print('F * G:\\n',F * G,'\\n') #对应位置相乘"
   ]
  },
  {
   "cell_type": "code",
   "execution_count": 6,
   "metadata": {},
   "outputs": [
    {
     "name": "stdout",
     "output_type": "stream",
     "text": [
      "H:\n",
      " [[2 1 1]\n",
      " [9 2 3]] \n",
      "\n",
      "I:\n",
      " [[0 8]\n",
      " [4 4]\n",
      " [5 5]] \n",
      "\n",
      "H.dot(I):\n",
      " [[ 9 25]\n",
      " [23 95]] \n",
      "\n"
     ]
    }
   ],
   "source": [
    "#矩阵点乘(注意前一个矩阵的列数要等于后一个矩阵的行数才能进行点乘)\n",
    "H = np.array([[2,1,1],[9,2,3]])\n",
    "I = np.array([[0,8],[4,4],[5,5]])\n",
    "print('H:\\n',H,'\\n')\n",
    "print('I:\\n',I,'\\n')\n",
    "print('H.dot(I):\\n',H.dot(I),'\\n')\n"
   ]
  },
  {
   "cell_type": "code",
   "execution_count": null,
   "metadata": {},
   "outputs": [],
   "source": [
    "#矩阵(非奇异方阵)的求逆\n",
    "J = np.array([[1, 0, 0],[0, 2, 0],[0, 0, 3]])\n",
    "print('J:\\n',J,'\\n')\n",
    "print('The inverse of J:\\n',np.linalg.inv(J),'\\n')\n"
   ]
  },
  {
   "cell_type": "code",
   "execution_count": null,
   "metadata": {},
   "outputs": [],
   "source": [
    "#矩阵的拼接\n",
    "K = np.array([[1, 2, 3], [4, 5, 6]])\n",
    "L = np.array([[7, 8, 9], [10, 11, 12]])\n",
    "print('K:\\n',K,'\\n')\n",
    "print('L:\\n',L,'\\n')\n",
    "print('\\n',np.r_[K, L],'\\n') #上下拼接\n",
    "print('\\n',np.c_[K, L],'\\n') #左右拼接"
   ]
  },
  {
   "cell_type": "code",
   "execution_count": null,
   "metadata": {},
   "outputs": [],
   "source": [
    "#矩阵的求和\n",
    "M = np.array([[5,0,2],[3,5,8]])\n",
    "print('M:\\n',M,'\\n')\n",
    "print('The sum of M:\\n',np.sum(M),'\\n')"
   ]
  },
  {
   "cell_type": "markdown",
   "metadata": {},
   "source": [
    "<span style=\"color:purple\">1) 使用pandas库的read_csv()函数(可以参考[pandas的官方文档](https://pandas.pydata.org/docs/reference/api/pandas.read_csv.html))将训练数据集'train.csv'和测试数据集'test.csv'载入到Dataframe对象中。</span>"
   ]
  },
  {
   "cell_type": "code",
   "execution_count": null,
   "metadata": {},
   "outputs": [],
   "source": [
    "# Your code here\n",
    "\n",
    "#读取数据集\n",
    "#train_frame = pd.read_csv('train.csv')\n",
    "#test_frame = pd.read_csv('test.csv')\n",
    "\n",
    "#转化成numpy矩阵\n",
    "#train = np.array(train_frame)\n",
    "#test = np.array(test_frame)\n",
    "\n"
   ]
  },
  {
   "cell_type": "markdown",
   "metadata": {},
   "source": [
    "<span style=\"color:purple\">2) 假设模型为一元线性回归模型$\\hat{y}=wx+b$, 损失函数为$l(w,b)=\\frac{1}{2}\\sum_{i=1}^m(\\hat{y}^{(i)}-y^{(i)})^2$, 其中$\\hat{y}^{(i)}$表示第$i$个样本的预测值，$y^{(i)}$表示第$i$个样本的实际标签值, $m$为训练集中样本的个数。求出使得损失函数最小化的参数$w$和$b$。</span>"
   ]
  },
  {
   "cell_type": "markdown",
   "metadata": {},
   "source": [
    "方法① \n",
    "\n",
    "将$l(w,b)$分别对$w$和$b$求导，得到\n",
    "$$\n",
    "\\frac{\\partial l(w,b)}{\\partial w}=w\\sum_{i=1}^m x_i^2 -\\sum_{i=1}^m (y_i-b)x_i,\n",
    "$$\n",
    "$$\n",
    "\\frac{\\partial l(w,b)}{\\partial b}=mb -\\sum_{i=1}^m (y_i-wx_i),\n",
    "$$\n",
    "令上述两式为零即可得到$w$和$b$的解析解：\n",
    "$$\n",
    "w=\\frac{\\sum_{i=1}^m y_i (x_i-\\bar{x})}{\\sum_{i=1}^m x_i^2-\\frac{1}{m}(\\sum_{i=1}^m x_i)^2},\n",
    "$$\n",
    "$$\n",
    "b=\\frac{1}{m}\\sum_{i=1}^m(y_i-wx_i),\n",
    "$$\n",
    "其中$\\bar{x}=\\frac{1}{m}\\sum_{i=1}^m x_i$为$x$的均值。\n",
    "\n"
   ]
  },
  {
   "cell_type": "code",
   "execution_count": 5,
   "metadata": {},
   "outputs": [
    {
     "name": "stdout",
     "output_type": "stream",
     "text": [
      "x_ever: 1.4742879639614397 \n",
      "\n",
      "w: 2.9884070446594273 \n",
      "\n",
      "b: 4.98431681257423 \n",
      "\n"
     ]
    }
   ],
   "source": [
    "# Your code here\n",
    "import pandas as pd\n",
    "import numpy as np\n",
    "import matplotlib.pyplot as plt\n",
    "#读取数据集\n",
    "train_frame = pd.read_csv('train.csv')\n",
    "test_frame = pd.read_csv('test.csv')\n",
    "\n",
    "#转化成numpy矩阵\n",
    "train = np.array(train_frame)   #训练集\n",
    "test = np.array(test_frame)        #测试集\n",
    "#print(\"train:\\n\",train,'\\n')\n",
    "#print(\"test:\\n\",test,'\\n')\n",
    "temp=0             #初始化变量\n",
    "n=0\n",
    "for x in train[:,0]:\n",
    "    temp=temp+x    #将train中所有的X值求和\n",
    "    n=n+1          #累加获得train数据集中的数据组数\n",
    "x_ever=temp/n      #x的平均值\n",
    "print(\"x_ever:\",x_ever,'\\n')\n",
    "#\n",
    "#初始化\n",
    "w_up=0;            #用来记录w的解析解分子上的连加结果\n",
    "w_down_1=0         #用来记录w的解析解分母上左边的连加结果\n",
    "w_down_2=0         #用来记录w的解析解分母上右边的连加结果\n",
    "j=0\n",
    "#\n",
    "#在循环中进行计算\n",
    "for x in train[:,0]:\n",
    "    y=train[j,1]\n",
    "    j=j+1   #通过j的自增保证下一次循环中y的值与x的值同步对应\n",
    "    w_up=y*(x-x_ever)+w_up   \n",
    "    w_down_1=x*x+w_down_1\n",
    "    w_down_2=x+w_down_2\n",
    "# 将w_up，w_down_1，w_down_2数据结合到一起获得w的值\n",
    "w=w_up/(w_down_1-(w_down_2*w_down_2)/(1+j))\n",
    "print(\"w:\",w,'\\n')\n",
    "\n",
    "#计算b\n",
    "mb=0\n",
    "p=0\n",
    "for x in train[:,0]:\n",
    "    y=train[p,1]\n",
    "    p=p+1\n",
    "    mb=mb+y-w*x\n",
    "b=mb/p             #计算平均值即为b\n",
    "print(\"b:\",b,'\\n')\n"
   ]
  },
  {
   "cell_type": "code",
   "execution_count": 7,
   "metadata": {},
   "outputs": [
    {
     "name": "stdout",
     "output_type": "stream",
     "text": [
      "MSE 0.16679446145959484\n"
     ]
    },
    {
     "data": {
      "text/plain": [
       "[<matplotlib.lines.Line2D at 0x1e73227b288>]"
      ]
     },
     "execution_count": 7,
     "metadata": {},
     "output_type": "execute_result"
    },
    {
     "data": {
      "image/png": "[encoded data removed]",
      "text/plain": [
       "<Figure size 432x288 with 1 Axes>"
      ]
     },
     "metadata": {
      "needs_background": "light"
     },
     "output_type": "display_data"
    }
   ],
   "source": [
    "test_frame = pd.read_csv('test.csv') #导入测试集数据\n",
    "test=np.array(test_frame)            #测试集数据转化为矩阵\n",
    "x=test[:,0]                          #获取测试集x值的列表\n",
    "y2=test[:,1]                         #获取测试集y值的列表\n",
    "y1=[]\n",
    "mse=0\n",
    "i=0\n",
    "for mx in x:\n",
    "    y=mx*w+b\n",
    "    mse=mse+(y-y2[i])*(y-y2[i])\n",
    "    y1.append(y)     #将每一个计算得到的预测值放入列表y1中\n",
    "    i=i+1\n",
    "MSE=mse/(i+1)\n",
    "print(\"MSE\",MSE)\n",
    "plt.plot(x,y1)       #绘制线性预测图\n",
    "plt.plot(x,y2,',')   #做出测试集数据的散点图"
   ]
  },
  {
   "cell_type": "code",
   "execution_count": null,
   "metadata": {},
   "outputs": [],
   "source": []
  },
  {
   "cell_type": "markdown",
   "metadata": {},
   "source": [
    "方法② 梯度下降法。(暂时不用实现)"
   ]
  },
  {
   "cell_type": "markdown",
   "metadata": {},
   "source": [
    "方法③ \n",
    "\n",
    "用矩阵表示，假设数据集有$m$个样本，特征有$n$维$。X=\\left[ \\begin{matrix} x_{11} & x_{12} & \\cdots & x_{1n} & 1 \\\\\n",
    "                         x_{21} & x_{22} & \\cdots & x_{2n} & 1 \\\\\n",
    "                         \\vdots & \\vdots &      & \\vdots & \\vdots \\\\\n",
    "                         x_{m1} & x_{m2} & \\cdots & x_{mn} & 1 \\end{matrix} \\right]$,\n",
    "        实际标签$Y=\\left[ \\begin{matrix} y_{1} \\\\\n",
    "                         y_{2} \\\\\n",
    "                         \\vdots \\\\\n",
    "                         y_{m}\\end{matrix} \\right]$,\n",
    "        参数$B=\\left[ \\begin{matrix} w_{1} \\\\\n",
    "                         w_{2} \\\\\n",
    "                         \\vdots \\\\\n",
    "                         w_{n} \\\\\n",
    "                         b\\end{matrix} \\right]$，则解析解为$B^*=(X^T X)^{-1}X^T Y$。推导过程可参考[这篇文章](https://zhuanlan.zhihu.com/p/74157986)。"
   ]
  },
  {
   "cell_type": "code",
   "execution_count": 3,
   "metadata": {},
   "outputs": [
    {
     "name": "stdout",
     "output_type": "stream",
     "text": [
      "B:\n",
      " [3.04147887 4.90607366]\n"
     ]
    }
   ],
   "source": [
    "# Your code here\n",
    "#将train矩阵变为X矩阵\n",
    "train_frame = pd.read_csv('train.csv')\n",
    "Train=np.array(train_frame)\n",
    "i=0;\n",
    "for y in Train[:,1]:\n",
    "    Train[i,1]=1\n",
    "    i=i+1\n",
    "#获取Train矩阵的转置矩阵\n",
    "Train_T=Train.T\n",
    "T_t=Train_T.dot(Train) #矩阵与矩阵点乘之后的结果\n",
    "T_t1=np.linalg.inv(T_t)  #T_t矩阵的求逆过程\n",
    "train_w = np.array(train_frame)\n",
    "Tag_y=train_w[:,1]     #标签Y矩阵\n",
    "M=T_t1.dot(Train_T)\n",
    "B=M.dot(Tag_y)\n",
    "print(\"B:\\n\",B)\n",
    "\n"
   ]
  },
  {
   "cell_type": "markdown",
   "metadata": {},
   "source": [
    "<span style=\"color:purple\">3) 使用求解出来的线性回归模型对测试数据集'test.csv'进行预测，输出可视化结果（比如用seaborn或者matplotlib等可视化库来画出测试数据的散点图以及训练好的模型函数图像）。</span>"
   ]
  },
  {
   "cell_type": "code",
   "execution_count": 4,
   "metadata": {},
   "outputs": [
    {
     "name": "stdout",
     "output_type": "stream",
     "text": [
      "MSE 0.1661152066070563\n"
     ]
    },
    {
     "data": {
      "image/png": "[encoded data removed]",
      "text/plain": [
       "<Figure size 432x288 with 1 Axes>"
      ]
     },
     "metadata": {
      "needs_background": "light"
     },
     "output_type": "display_data"
    }
   ],
   "source": [
    "# Your code here\n",
    "#A=np.array([[1,2,3],[4,5,6],[7,8,9]])\n",
    "#x = A[0, :] #从一个矩阵中提取出一行作为一个向量\n",
    "#y1 = np.array([2, 3, 5])\n",
    "#plt.plot(x, y1) #画出折线图\n",
    "#y2 = np.array([2.5, 2.8, 5.3])\n",
    "#plt.plot(x, y2, '.') #画出散点图\n",
    "#plt.show()\n",
    "test_frame = pd.read_csv('test.csv') #导入测试集数据\n",
    "test=np.array(test_frame)            #测试集数据转化为矩阵\n",
    "x=test[:,0]                          #获取测试集x值的列表\n",
    "y2=test[:,1]                         #获取测试集y值的列表\n",
    "y1=[]\n",
    "plt.plot(x, y2,',')\n",
    "i=0\n",
    "mse=0\n",
    "for k in x:\n",
    "    y=B[0]*k+B[1]\n",
    "    y1.append(y) #将每一个计算得到的预测值放入列表y1中\n",
    "    mse=mse+(y-y2[i])*(y-y2[i])\n",
    "    i=i+1\n",
    "MSE=mse/(i+1)\n",
    "plt.plot(x,y1)\n",
    "print(\"MSE\",MSE)"
   ]
  },
  {
   "cell_type": "markdown",
   "metadata": {},
   "source": [
    "<span style=\"color:purple\">4) 在训练数据集'train2.csv'上求一个三元线性回归模型$\\hat{y}=w_1 x_1 + w_2 x_2 + w_3 x_3 + b$的使得损失函数$l(w_1,w_2,w_3,b)=\\frac{1}{2}\\sum_{i=1}^m(\\hat{y}^{(i)}-y^{(i)})^2$最小的参数$w_1,w_2,w_3$以及$b$。并在测试数据集'test2.csv'上进行预测，输出预测结果的均方误差$MSE(\\hat{y},y)=\\frac{1}{n}\\sum^n_{i=1}(y^{(i)}-\\hat{y}^{(i)})^2$, $n$为测试集中样本个数。</span>"
   ]
  },
  {
   "cell_type": "markdown",
   "metadata": {},
   "source": [
    "方法① 同2)中的方法③。"
   ]
  },
  {
   "cell_type": "code",
   "execution_count": 1,
   "metadata": {
    "scrolled": true
   },
   "outputs": [
    {
     "name": "stdout",
     "output_type": "stream",
     "text": [
      "[1.00723001 2.00339371 3.01025624 5.94254393]\n",
      "MSE: 0.16537691128951554\n"
     ]
    }
   ],
   "source": [
    "# Your code here\n",
    "import pandas as pd\n",
    "import numpy as np\n",
    "import matplotlib.pyplot as plt\n",
    "train_frame = pd.read_csv('train2.csv')\n",
    "#转化成numpy矩阵\n",
    "Train2= np.array(train_frame)   #训练集\n",
    "test_frame=pd.read_csv('test2.csv')\n",
    "test2=np.array(test_frame)\n",
    "\n",
    "#获取x的向量\n",
    "x1=test2[:,0]\n",
    "x2=test2[:,1]\n",
    "x3=test2[:,2]\n",
    "# print(Tag_y2)\n",
    "# print(Train2)\n",
    "i=0\n",
    "for x in Train2:\n",
    "    Train2[i,3]=1\n",
    "    i=i+1\n",
    "# print(Train2,end=\"\\n\\n\\n\\n\")\n",
    "\n",
    "#获取Train矩阵的转置矩阵\n",
    "Train2_T=Train2.T\n",
    "\n",
    "T2_t=Train2_T.dot(Train2) #矩阵与矩阵点乘之后的结果\n",
    "T2_t1=np.linalg.inv(T2_t)  #T_t矩阵的求逆过程\n",
    "# print(T2_t1)\n",
    "\n",
    "M=T2_t1.dot(Train2_T)\n",
    "\n",
    "\n",
    "my_train=pd.read_csv('train2.csv')\n",
    "My_train=np.array(my_train)\n",
    "Tag_yy=My_train[:,3]\n",
    "\n",
    "\n",
    "my_B=M.dot(Tag_yy)\n",
    "print(my_B)\n",
    "\n",
    "# print(Tag_yy)\n",
    "y1=[]\n",
    "#计算预测值\n",
    "# print(x1,end=\"\\n\\n\\n\")\n",
    "# print(x2,end=\"\\n\\n\\n\")\n",
    "# print(x3,end=\"\\n\\n\\n\")\n",
    "for j in range(0,40,1):\n",
    "    a=my_B[0]*x1[j]\n",
    "    b=my_B[1]*x2[j]\n",
    "    c=my_B[2]*x3[j]\n",
    "    y=a+b+c+my_B[3]  #计算Y的预测值\n",
    "    y1.append(y)     \n",
    "y2=test2[:,3]        #获取Y的真实值\n",
    "# print(y1,\"\\n\\n\\n\",y2)\n",
    "sum=0\n",
    "for g in range(len(test2)):\n",
    "    sum=sum+(y1[g]-y2[g])*(y1[g]-y2[g])\n",
    "MSE=sum/40\n",
    "print(\"MSE:\",MSE)\n",
    "# print(y1)\n",
    "# plt.plot(x1,x2,x3,y1)"
   ]
  },
  {
   "cell_type": "raw",
   "metadata": {},
   "source": [
    "方法② 梯度下降法。(暂时不用实现)"
   ]
  },
  {
   "cell_type": "code",
   "execution_count": null,
   "metadata": {},
   "outputs": [],
   "source": []
  }
 ],
 "metadata": {
  "kernelspec": {
   "display_name": "Python 3",
   "language": "python",
   "name": "python3"
  },
  "language_info": {
   "codemirror_mode": {
    "name": "ipython",
    "version": 3
   },
   "file_extension": ".py",
   "mimetype": "text/x-python",
   "name": "python",
   "nbconvert_exporter": "python",
   "pygments_lexer": "ipython3",
   "version": "3.9.2"
  }
 },
 "nbformat": 4,
 "nbformat_minor": 5
}
