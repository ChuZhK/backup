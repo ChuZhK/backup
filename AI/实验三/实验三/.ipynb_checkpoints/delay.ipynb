{
 "cells": [
  {
   "cell_type": "markdown",
   "metadata": {},
   "source": [
    "# 线性回归（二）"
   ]
  },
  {
   "cell_type": "code",
   "execution_count": 1,
   "metadata": {},
   "outputs": [],
   "source": [
    "import pandas as pd\n",
    "import numpy as np\n",
    "import matplotlib.pyplot as plt"
   ]
  },
  {
   "cell_type": "markdown",
   "metadata": {},
   "source": [
    "<span style=\"color:purple\">1) 使用pandas库的read_csv()函数(可以参考[pandas的官方文档](https://pandas.pydata.org/docs/reference/api/pandas.read_csv.html))将训练数据集'train.csv'和测试数据集'test.csv'载入到Dataframe对象中。</span>"
   ]
  },
  {
   "cell_type": "code",
   "execution_count": 2,
   "metadata": {},
   "outputs": [
    {
     "name": "stdout",
     "output_type": "stream",
     "text": [
      "123\n"
     ]
    }
   ],
   "source": [
    "# Your code here\n",
    "train_frame = pd.read_csv('train.csv')\n",
    "test_frame = pd.read_csv('test.csv')\n",
    "#读取数据集\n",
    "#train_frame = pd.read_csv('train.csv')\n",
    "#test_frame = pd.read_csv('test.csv')\n",
    "\n",
    "#转化成numpy矩阵\n",
    "train = np.array(train_frame)\n",
    "test = np.array(test_frame)\n",
    "print(123)\n"
   ]
  },
  {
   "cell_type": "markdown",
   "metadata": {},
   "source": [
    "<span style=\"color:purple\">2) 假设模型为一元线性回归模型$\\hat{y}=wx+b$, 损失函数为$l(w,b)=\\frac{1}{2}\\sum_{i=1}^m(\\hat{y}^{(i)}-y^{(i)})^2$, 其中$\\hat{y}^{(i)}$表示第$i$个样本的预测值，$y^{(i)}$表示第$i$个样本的实际标签值, $m$为训练集中样本的个数。求出使得损失函数最小化的参数$w$和$b$。</span>"
   ]
  },
  {
   "cell_type": "markdown",
   "metadata": {},
   "source": [
    "方法① \n",
    "\n",
    "将$l(w,b)$分别对$w$和$b$求导，得到\n",
    "$$\n",
    "\\frac{\\partial l(w,b)}{\\partial w}=w\\sum_{i=1}^m x_i^2 -\\sum_{i=1}^m (y_i-b)x_i,\n",
    "$$\n",
    "$$\n",
    "\\frac{\\partial l(w,b)}{\\partial b}=mb -\\sum_{i=1}^m (y_i-wx_i),\n",
    "$$\n",
    "令上述两式为零即可得到$w$和$b$的解析解：\n",
    "$$\n",
    "w=\\frac{\\sum_{i=1}^m y_i (x_i-\\bar{x})}{\\sum_{i=1}^m x_i^2-\\frac{1}{m}(\\sum_{i=1}^m x_i)^2},\n",
    "$$\n",
    "$$\n",
    "b=\\frac{1}{m}\\sum_{i=1}^m(y_i-wx_i),\n",
    "$$\n",
    "其中$\\bar{x}=\\frac{1}{m}\\sum_{i=1}^m x_i$为$x$的均值。\n",
    "\n"
   ]
  },
  {
   "cell_type": "markdown",
   "metadata": {},
   "source": [
    "方法② 梯度下降法。手动实现梯度下降法(不使用机器学习框架，如PyTorch、TensorFlow等)来进行模型的训练。算法步骤如下：(a)初始化模型参数$w$和$b$的值；(b)在负梯度的方向上更新参数(批量梯度下降($\\left|B\\right|=m$)、小批量随机梯度下降或者随机梯度下降($\\left|B\\right|=1$)均可)，并不断迭代这一步骤，更新公式(以小批量随机梯度下降为例)可以写成：$$w\\gets w-\\frac{\\eta}{\\left|B\\right|}\\sum_{i\\in{B}}x^{(i)}(wx^{(i)}+b-y^{(i)})$$, 和$$b\\gets b-\\frac{\\eta}{\\left|B\\right|}\\sum_{i\\in{B}}(wx^{(i)}+b-y^{(i)})$$， 其中$\\eta$表示学习率,$B$表示每次迭代中随机抽样的小批量，$\\left|B\\right|$则表示$B$中的样本数量。(c) 终止条件为迭代次数达到某一上限或者参数更新的幅度小于某个阈值。"
   ]
  },
  {
   "cell_type": "code",
   "execution_count": 13,
   "metadata": {},
   "outputs": [
    {
     "name": "stdout",
     "output_type": "stream",
     "text": [
      "3.0775246918587285 4.730589887287296\n"
     ]
    }
   ],
   "source": [
    "# Your code here\n",
    "x=train[:,0]\n",
    "y=train[:,1]\n",
    "\n",
    "w=0\n",
    "b=0\n",
    "eta=0.05\n",
    "base=0\n",
    "i=0\n",
    "while i<200 :\n",
    "        my_w=0\n",
    "        my_b=0\n",
    "        m=0\n",
    "        for g in range(len(train)):   #取出在步进范围内的训练值\n",
    "            my_x=train[g,0]\n",
    "            my_y=train[g,1]\n",
    "            if(my_x>base and my_x<base+eta):\n",
    "                my_w=my_x*(w*my_x+b-my_y)+my_w\n",
    "                my_b=w*my_x+b-my_y+my_b\n",
    "                m=m+1\n",
    "        if(m==0):\n",
    "            base=base+eta\n",
    "            i=i+1\n",
    "            continue\n",
    "#         print(i)\n",
    "        w=w-eta/m*my_w\n",
    "        b=b-eta/m*my_b\n",
    "        base=base+eta\n",
    "        i=i+1\n",
    "print(w,b)\n",
    "\n",
    "\n",
    "\n",
    "\n"
   ]
  },
  {
   "cell_type": "markdown",
   "metadata": {},
   "source": [
    "# 方法③ \n",
    "\n",
    "用矩阵表示，假设数据集有$m$个样本，特征有$n$维$。X=\\left[ \\begin{matrix} x_{11} & x_{12} & \\cdots & x_{1n} & 1 \\\\\n",
    "                         x_{21} & x_{22} & \\cdots & x_{2n} & 1 \\\\\n",
    "                         \\vdots & \\vdots &      & \\vdots & \\vdots \\\\\n",
    "                         x_{m1} & x_{m2} & \\cdots & x_{mn} & 1 \\end{matrix} \\right]$,\n",
    "        实际标签$Y=\\left[ \\begin{matrix} y_{1} \\\\\n",
    "                         y_{2} \\\\\n",
    "                         \\vdots \\\\\n",
    "                         y_{m}\\end{matrix} \\right]$,\n",
    "        参数$B=\\left[ \\begin{matrix} w_{1} \\\\\n",
    "                         w_{2} \\\\\n",
    "                         \\vdots \\\\\n",
    "                         w_{n} \\\\\n",
    "                         b\\end{matrix} \\right]$，则解析解为$B^*=(X^T X)^{-1}X^T Y$。推导过程可参考[这篇文章](https://zhuanlan.zhihu.com/p/74157986)。"
   ]
  },
  {
   "cell_type": "markdown",
   "metadata": {},
   "source": [
    "<span style=\"color:purple\">3) 使用求解出来的线性回归模型对测试数据集'test.csv'进行预测，输出可视化结果（比如用seaborn或者matplotlib等可视化库来画出测试数据的散点图以及训练好的模型函数图像）。</span>"
   ]
  },
  {
   "cell_type": "code",
   "execution_count": 12,
   "metadata": {},
   "outputs": [
    {
     "data": {
      "text/plain": [
       "[<matplotlib.lines.Line2D at 0x13c5c434340>]"
      ]
     },
     "execution_count": 12,
     "metadata": {},
     "output_type": "execute_result"
    },
    {
     "data": {
      "image/png": "[encoded data removed]",
      "text/plain": [
       "<Figure size 432x288 with 1 Axes>"
      ]
     },
     "metadata": {
      "needs_background": "light"
     },
     "output_type": "display_data"
    }
   ],
   "source": [
    "# Your code here\n",
    "#A=np.array([[1,2,3],[4,5,6],[7,8,9]])\n",
    "#x = A[0, :] #从一个矩阵中提取出一行作为一个向量\n",
    "#y1 = np.array([2, 3, 5])\n",
    "#plt.plot(x, y1) #画出折线图\n",
    "#y2 = np.array([2.5, 2.8, 5.3])\n",
    "#plt.plot(x, y2, '.') #画出散点图\n",
    "#plt.show()\n",
    "t_x=test[:,0]\n",
    "t_y=test[:,1]\n",
    "m_y=[]\n",
    "for x in t_x:\n",
    "    m_y.append(w*x+b)\n",
    "plt.plot(t_x,m_y)\n",
    "plt.plot(t_x,t_y,'.')\n"
   ]
  },
  {
   "cell_type": "markdown",
   "metadata": {},
   "source": [
    "<span style=\"color:purple\">4) 在训练数据集'train2.csv'上求一个三元线性回归模型$\\hat{y}=w_0 + w_1 x_1 + w_2 x_2 + w_3 x_3$的使得损失函数$l(w_0,w_1,w_2,w_3)=\\frac{1}{2}\\sum_{i=1}^m(\\hat{y}^{(i)}-y^{(i)})^2$最小的参数$w_0,w_1,w_2$以及$w_3$。并在测试数据集'test2.csv'上进行预测，输出预测结果的均方误差$MSE(\\hat{y},y)=\\frac{1}{n}\\sum^n_{i=1}(y^{(i)}-\\hat{y}^{(i)})^2$, $n$为测试集中样本个数。</span>"
   ]
  },
  {
   "cell_type": "markdown",
   "metadata": {},
   "source": [
    "方法① 同2)中的方法③。"
   ]
  },
  {
   "cell_type": "markdown",
   "metadata": {},
   "source": [
    "方法② 类似2)中的方法②。算法步骤如下：(a)初始化模型参数$w_0,w_1,w_2,w_3$的值；(b)在负梯度的方向上更新参数(批量梯度下降($\\left|B\\right|=m$)、小批量随机梯度下降或者随机梯度下降($\\left|B\\right|=1$)均可)，并不断迭代这一步骤，更新公式(以小批量随机梯度下降为例)可以写成：$$w_j\\gets w_j-\\frac{\\eta}{\\left|B\\right|}\\sum_{i\\in{B}}x_j^{(i)}(w_0 + w_1 x_1^{(i)}+w_2 x_2^{(i)}+w_3 x_3^{(i)}-y^{(i)}), j=0,1,2,3$$, 其中$x_0^{(i)}=1$，$\\eta$表示学习率,$B$表示每次迭代中随机抽样的小批量，$\\left|B\\right|$则表示$B$中的样本数量。(c) 终止条件为迭代次数达到某一上限或者参数更新的幅度小于某个阈值。"
   ]
  },
  {
   "cell_type": "code",
   "execution_count": 25,
   "metadata": {},
   "outputs": [
    {
     "name": "stdout",
     "output_type": "stream",
     "text": [
      "w_0: 0.08983173553128751\n",
      "w_1: 1.6450248530257552\n",
      "w_2: 2.775048734800963\n",
      "w_3: 3.475045380431076\n",
      "MSE为：\n",
      "4.205406878653739\n"
     ]
    }
   ],
   "source": [
    "# Your code here\n",
    "#\n",
    "#\n",
    "#\n",
    "#********************\n",
    "#运行此题的代码块请将变量刷新，直接从该题的代码块开始运行\n",
    "#*****************************\n",
    "#\n",
    "#\n",
    "#\n",
    "import pandas as pd\n",
    "import numpy as np\n",
    "import matplotlib.pyplot as plt\n",
    "#读取数据集\n",
    "train2_frame = pd.read_csv('train2.csv')\n",
    "test2_frame = pd.read_csv('test2.csv')\n",
    "\n",
    "#转化成numpy矩阵\n",
    "train2 = np.array(train2_frame)\n",
    "test2 = np.array(test2_frame)\n",
    "w_0=0\n",
    "w_1=0\n",
    "w_2=0\n",
    "w_3=0\n",
    "eta=0.05\n",
    "base=0\n",
    "i=0\n",
    "while i<300:\n",
    "    my_w_0=0\n",
    "    my_w_1=0\n",
    "    my_w_2=0\n",
    "    my_w_3=0\n",
    "    m_0=0\n",
    "    m_1=0\n",
    "    m_2=0\n",
    "    m_3=0\n",
    "    for g in range(len(train2)):\n",
    "        x0=1\n",
    "        x1=train2[g,0]\n",
    "        x2=train2[g,1]\n",
    "        x3=train2[g,2]\n",
    "        y=train2[g,3]\n",
    "        if(x0>base and x0<base+eta):\n",
    "            my_w_0=my_w_0+x0*(w_0+w_1*x1+w_2*x2+w_3*x3-y)\n",
    "            m_0=m_0+1\n",
    "        if(x1>base and x1<base+eta):\n",
    "            my_w_1=my_w_1+x1*(w_0+w_1*x1+w_2*x2+w_3*x3-y)\n",
    "            m_1=m_1+1\n",
    "        if(x2>base and x2<base+eta):\n",
    "            my_w_2=my_w_2+x2*(w_0+w_1*x1+w_2*x2+w_3*x3-y)\n",
    "            m_2=m_2+1\n",
    "        if(x3>base and x3<base+eta):\n",
    "            my_w_3=my_w_3+x3*(w_0+w_1*x1+w_2*x2+w_3*x3-y)\n",
    "            m_3=m_3+1\n",
    "    if (m_0 != 0):\n",
    "        w_0=w_0-eta/m_0*my_w_0\n",
    "    if m_1 !=0:\n",
    "        w_1=w_1-eta/m_1*my_w_1\n",
    "    if m_2 !=0:\n",
    "        w_2=w_2-eta/m_2*my_w_2\n",
    "    if m_3 !=0:\n",
    "        w_3=w_3-eta/m_3*my_w_3\n",
    "    base=base+eta\n",
    "    i=i+1\n",
    "print(\"w_0:\",w_0)\n",
    "print(\"w_1:\",w_1)\n",
    "print(\"w_2:\",w_2)\n",
    "print(\"w_3:\",w_3)\n",
    "t_x1=test2[:,0]\n",
    "t_x2=test2[:,1]\n",
    "t_x3=test2[:,2]\n",
    "t_y=test2[:,3]\n",
    "m_y=[]\n",
    "num=0\n",
    "p=0\n",
    "for u in range(len(t_x1)):\n",
    "    yy=w_0+w_1*t_x1[u]+w_2*t_x2[u]+w_3*t_x3[u]\n",
    "    num=(yy-t_y[u])*(yy-t_y[u])+num\n",
    "    m_y.append(yy)\n",
    "    p=p+1\n",
    "E=num/p\n",
    "print(\"MSE为：\")\n",
    "print(E)\n"
   ]
  },
  {
   "cell_type": "code",
   "execution_count": null,
   "metadata": {},
   "outputs": [],
   "source": []
  }
 ],
 "metadata": {
  "kernelspec": {
   "display_name": "Python 3",
   "language": "python",
   "name": "python3"
  },
  "language_info": {
   "codemirror_mode": {
    "name": "ipython",
    "version": 3
   },
   "file_extension": ".py",
   "mimetype": "text/x-python",
   "name": "python",
   "nbconvert_exporter": "python",
   "pygments_lexer": "ipython3",
   "version": "3.8.5"
  }
 },
 "nbformat": 4,
 "nbformat_minor": 5
}
